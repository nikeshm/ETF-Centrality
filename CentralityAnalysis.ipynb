{
  "nbformat": 4,
  "nbformat_minor": 0,
  "metadata": {
    "colab": {
      "name": "CentralityAnalysis",
      "provenance": [],
      "collapsed_sections": []
    },
    "kernelspec": {
      "name": "python3",
      "display_name": "Python 3"
    },
    "language_info": {
      "name": "python"
    }
  },
  "cells": [
    {
      "cell_type": "markdown",
      "metadata": {
        "id": "3urOLB9PoBaC"
      },
      "source": [
        "The code in this document was written as part of the final project for the Spring 2021 offering of ECON46."
      ]
    },
    {
      "cell_type": "markdown",
      "metadata": {
        "id": "-B9HewFVoJ76"
      },
      "source": [
        "We begin by importing all the requisite packages."
      ]
    },
    {
      "cell_type": "code",
      "metadata": {
        "id": "_2htXYHFM3h8"
      },
      "source": [
        "from pandas_datareader._utils import RemoteDataError\n",
        "import matplotlib.pyplot as plt\n",
        "import pandas_datareader as dr\n",
        "import pandas as pd\n",
        "import networkx as nx\n",
        "import seaborn as sns\n",
        "import numpy as np\n",
        "import datetime\n",
        "import math"
      ],
      "execution_count": null,
      "outputs": []
    },
    {
      "cell_type": "code",
      "metadata": {
        "id": "q6dxCrmVnaaC"
      },
      "source": [
        "globalList = []"
      ],
      "execution_count": null,
      "outputs": []
    },
    {
      "cell_type": "markdown",
      "metadata": {
        "id": "51ryk8cyoURI"
      },
      "source": [
        "The following function returns a list of ETF holdings given the name of a fund."
      ]
    },
    {
      "cell_type": "code",
      "metadata": {
        "id": "DQV4rF1Tnnt1"
      },
      "source": [
        "def tickersOfETFHoldings(etf_ticker):\n",
        "  url = 'http://research2.fidelity.com/fidelity/screeners/etf/public/etfholdings.asp?symbol={}&view=Region'.format(etf_ticker)\n",
        "  hd = pd.read_html(url)[0]\n",
        "  hd = hd.query('Weight >= 0.5 & Geography == \"United States\"')\n",
        "  initial = hd[\"Symbol\"].tolist()\n",
        "  result = [i for i in initial if (isinstance(i, str)) and i.isalpha()]\n",
        "  return result"
      ],
      "execution_count": null,
      "outputs": []
    },
    {
      "cell_type": "markdown",
      "metadata": {
        "id": "4DvQ8RhsoZ68"
      },
      "source": [
        "The following function produces a Pandas DataFrame of ticker prices between specified `start` and `end` dates when provided with a list of stock tickers.\n",
        "\n"
      ]
    },
    {
      "cell_type": "code",
      "metadata": {
        "id": "yTGbTB1rnaUW"
      },
      "source": [
        "def makeDFfromTickers(tickers, start, end):\n",
        "  result = pd.DataFrame()\n",
        "  for ticker in tickers:\n",
        "    try:\n",
        "      history = dr.DataReader(ticker, 'yahoo', start, end)\n",
        "      result[ticker] = pd.Series(history[\"Adj Close\"])\n",
        "    except (RemoteDataError, TypeError, NameError, KeyError):\n",
        "      pass\n",
        "  return result"
      ],
      "execution_count": null,
      "outputs": []
    },
    {
      "cell_type": "markdown",
      "metadata": {
        "id": "LDev12O6osJP"
      },
      "source": [
        "The following function returns the vertex with highest betweenness centrality when given a NetworkX graph."
      ]
    },
    {
      "cell_type": "code",
      "metadata": {
        "id": "3wew0UqynaOj"
      },
      "source": [
        "def getBetweenness(graph):\n",
        "  return max(nx.betweenness_centrality(graph), key=nx.betweenness_centrality(graph).get)"
      ],
      "execution_count": null,
      "outputs": []
    },
    {
      "cell_type": "markdown",
      "metadata": {
        "id": "kYe0ZlmVo1E6"
      },
      "source": [
        "The following function returns the difference in price of a stock between two dates `start` and `end`."
      ]
    },
    {
      "cell_type": "code",
      "metadata": {
        "id": "NR_WnBXonpq2"
      },
      "source": [
        "def change(symbol, start, end):\n",
        "  try:\n",
        "    data = dr.DataReader(symbol, 'yahoo', start, end)\n",
        "    change = ((float(data[\"Adj Close\"][-1]) - float(data[\"Adj Close\"][0]))/float(data[\"Adj Close\"][0])) * 100\n",
        "  except (RemoteDataError, TypeError, NameError, KeyError):\n",
        "    change = \"Couldn't get the difference\"\n",
        "  return change"
      ],
      "execution_count": null,
      "outputs": []
    },
    {
      "cell_type": "markdown",
      "metadata": {
        "id": "dPXF4H6bo8WK"
      },
      "source": [
        "The following function almost replicates the functionality of the `change()` function written above, but is used as a utility to print the difference directly to the cell output."
      ]
    },
    {
      "cell_type": "code",
      "metadata": {
        "id": "vP04DQjanaIb"
      },
      "source": [
        "def price_between_dates(symbol, start, end):\n",
        "  answer = \"\"\n",
        "  try:\n",
        "    data = dr.DataReader(symbol, 'yahoo', start, end)\n",
        "    change = ((float(data[\"Adj Close\"][-1]) - float(data[\"Adj Close\"][0]))/float(data[\"Adj Close\"][0])) * 100\n",
        "    answer = \"Between {start} and {end}, the price of {symbol} changed by {change}%.\".format(start=start, end=end, symbol=symbol, change=change)\n",
        "  except (RemoteDataError, TypeError, NameError, KeyError):\n",
        "    pass\n",
        "  return answer"
      ],
      "execution_count": null,
      "outputs": []
    },
    {
      "cell_type": "markdown",
      "metadata": {
        "id": "9macV1o9pJ_U"
      },
      "source": [
        "This is the main simulation function that produces a stock correlation matrix and finds the vertex with highest betweenness centrality."
      ]
    },
    {
      "cell_type": "code",
      "metadata": {
        "id": "T-hpTLgQnZ9u"
      },
      "source": [
        "def doThingETF(etfSymbol, start, end, normalized=pd.DataFrame()):\n",
        "  tickers = tickersOfETFHoldings(etfSymbol)\n",
        "  prices = makeDFfromTickers(tickers, start, end)\n",
        "\n",
        "  for column in prices.columns:\n",
        "      normalized[column] = np.log(prices[column]).diff(-1)\n",
        "\n",
        "  stock_correlation_matrix = normalized.corr()\n",
        "\n",
        "  edges = stock_correlation_matrix.stack()\n",
        "  edges = edges.reset_index()\n",
        "  edges.columns = [\"first\", \"second\", \"corr\"]\n",
        "  edges = edges.loc[edges[\"first\"] != edges[\"second\"]]\n",
        "  edges = edges.copy()\n",
        "\n",
        "  threshold, under_thresh = 0.5, []\n",
        "  G = nx.from_pandas_edgelist(edges, \"first\", \"second\", edge_attr=[\"corr\"])\n",
        "  for edge in G.edges():\n",
        "      first, second = edge\n",
        "      correlation = G[first][second][\"corr\"]\n",
        "      if abs(correlation) < threshold:\n",
        "          under_thresh.append((first, second))\n",
        "  G.remove_edges_from(under_thresh)\n",
        "\n",
        "  central = getBetweenness(G)\n",
        "\n",
        "  try:\n",
        "    if change(central, start, end) >= change(etfSymbol, start, end):\n",
        "      globalList.append((etfSymbol, central))\n",
        "  except (RemoteDataError, TypeError, NameError, KeyError):\n",
        "    pass\n",
        "  \n",
        "  print(\"We are operating on {}.\".format(etfSymbol))\n",
        "  print(\"The most central stock is {central}, and the most heavily weighted American stock is {big}.\".format(central=central, big=tickers[0]))\n",
        "  print(price_between_dates(central, start, end))\n",
        "  print(price_between_dates(etfSymbol, start, end))\n",
        "  print('\\n')"
      ],
      "execution_count": null,
      "outputs": []
    },
    {
      "cell_type": "markdown",
      "metadata": {
        "id": "yXFuEQejpVI8"
      },
      "source": [
        "The following cell contains the body of the simulation. The results are printed to the cell output."
      ]
    },
    {
      "cell_type": "code",
      "metadata": {
        "id": "XhKn9TJ2M4sf"
      },
      "source": [
        "etfs = ['ICLN', 'NLR', 'XOP', 'XLF', 'VFH', 'KCE', 'VIS', 'IYJ', 'ITA', 'WBIF']\n",
        "start = datetime.datetime(2019, 1, 1)\n",
        "end = datetime.datetime(2019, 12, 31)\n",
        "for etf in etfs:\n",
        "  doThingETF(etf, start, end)\n",
        "print(globalList)\n",
        "\n",
        "etf_symbols = [i[0] for i in globalList]\n",
        "stock_symbols = [i[1] for i in globalList]\n",
        "start = datetime.datetime(2020, 1, 1)\n",
        "end = datetime.datetime(2020, 12, 31)\n",
        "total = 0\n",
        "for i in range(len(etf_symbols)):\n",
        "  if change(stock_symbols[i], start, end) >= change(etf_symbols[i], start, end):\n",
        "    print(\"{} satisfies the hypothesis.\".format(etf_symbols[i]))\n",
        "    print(price_between_dates(stock_symbols[i], start, end))\n",
        "    print(price_between_dates(etf_symbols[i], start, end))\n",
        "    total += 1\n",
        "  else:\n",
        "    print(\"{} doesn't satisfy the hypothesis\".format(etf_symbols[i]))\n",
        "  print('\\n')\n",
        "\n",
        "success = total/len(etfs)\n",
        "\n",
        "print(\"Of the {numETFs} ETFs that you tested, {lenGlobList} were good. \\\n",
        "Of those, {total} satisfied the hypothesis. This is a success rate of \\\n",
        "{success}.\".format(numETFs=len(etfs), lenGlobList=len(globalList), total=total, success=success))"
      ],
      "execution_count": null,
      "outputs": []
    },
    {
      "cell_type": "markdown",
      "metadata": {
        "id": "IRmMCmKKpcrK"
      },
      "source": [
        "The following function visualizes a stock correlation network; much of the code is copied from `doThingETF()` above."
      ]
    },
    {
      "cell_type": "code",
      "metadata": {
        "id": "cf3fN__vVmeL"
      },
      "source": [
        "def makeETFgraph(etfSymbol, start, end, normalized=pd.DataFrame()):\n",
        "  tickers = tickersOfETFHoldings(etfSymbol)\n",
        "  prices = makeDFfromTickers(tickers, start, end)\n",
        "\n",
        "  for column in prices.columns:\n",
        "      normalized[column] = np.log(prices[column]).diff(-1)\n",
        "  stock_correlation_matrix = normalized.corr()\n",
        "\n",
        "  edges = stock_correlation_matrix.stack()\n",
        "  edges = edges.reset_index()\n",
        "  edges.columns = [\"first\", \"second\", \"corr\"]\n",
        "  edges = edges.loc[edges[\"first\"] != edges[\"second\"]]\n",
        "  edges = edges.copy()\n",
        "\n",
        "  threshold, under_thresh = 0.5, []\n",
        "  G = nx.from_pandas_edgelist(edges, \"first\", \"second\", edge_attr=[\"corr\"])\n",
        "  for edge in G.edges():\n",
        "      first, second = edge\n",
        "      correlation = G[first][second][\"corr\"]\n",
        "      if abs(correlation) < threshold:\n",
        "          under_thresh.append((first, second))\n",
        "  G.remove_edges_from(under_thresh)\n",
        "  \n",
        "  node_size = []\n",
        "  \n",
        "  for key, value in dict(G.degree).items():\n",
        "      node_size.append((45 * value) + 1)\n",
        "\n",
        "  sns.set(rc={\"figure.figsize\": (7, 7)})\n",
        "\n",
        "  nx.draw(G, pos=nx.circular_layout(G), with_labels=True, node_size=node_size, node_color=\"#5cc8ff\", edge_color=\"#9792e3\")\n",
        "  plt.show()"
      ],
      "execution_count": null,
      "outputs": []
    },
    {
      "cell_type": "markdown",
      "metadata": {
        "id": "7VLbGW05pntx"
      },
      "source": [
        "Below is the command to produce a network visualization of the ICLN ETF based on stock correlation data during 2019."
      ]
    },
    {
      "cell_type": "code",
      "metadata": {
        "id": "MFVcoYQ5Xnj5"
      },
      "source": [
        "start = datetime.datetime(2019, 1, 1)\n",
        "end = datetime.datetime(2019, 12, 31)\n",
        "makeETFgraph('ICLN', start, end)"
      ],
      "execution_count": null,
      "outputs": []
    },
    {
      "cell_type": "markdown",
      "metadata": {
        "id": "p4qQtRiJvEZ5"
      },
      "source": [
        "The following cell runs a command using an open-source package to download this Google Colab notebook as a PDF; this is not part of the final project."
      ]
    },
    {
      "cell_type": "code",
      "metadata": {
        "colab": {
          "base_uri": "https://localhost:8080/",
          "height": 302
        },
        "id": "kgSVE6twXq_m",
        "outputId": "12a16ff5-15f5-4080-ab6e-be1091d9150a"
      },
      "source": [
        "!wget -nc https://raw.githubusercontent.com/brpy/colab-pdf/master/colab_pdf.py\n",
        "from colab_pdf import colab_pdf\n",
        "colab_pdf('ECON 46 - Final Project - Nikesh Mishra.ipynb')"
      ],
      "execution_count": null,
      "outputs": [
        {
          "output_type": "stream",
          "text": [
            "File ‘colab_pdf.py’ already there; not retrieving.\n",
            "\n",
            "\n",
            "WARNING: apt does not have a stable CLI interface. Use with caution in scripts.\n",
            "\n",
            "\n",
            "WARNING: apt does not have a stable CLI interface. Use with caution in scripts.\n",
            "\n",
            "[NbConvertApp] Converting notebook /content/drive/MyDrive/Colab Notebooks/ECON 46 - Final Project - Nikesh Mishra.ipynb to pdf\n",
            "[NbConvertApp] Writing 45594 bytes to ./notebook.tex\n",
            "[NbConvertApp] Building PDF\n",
            "[NbConvertApp] Running xelatex 3 times: [u'xelatex', u'./notebook.tex', '-quiet']\n",
            "[NbConvertApp] Running bibtex 1 time: [u'bibtex', u'./notebook']\n",
            "[NbConvertApp] WARNING | bibtex had problems, most likely because there were no citations\n",
            "[NbConvertApp] PDF successfully created\n",
            "[NbConvertApp] Writing 37040 bytes to /content/drive/My Drive/ECON 46 - Final Project - Nikesh Mishra.pdf\n"
          ],
          "name": "stdout"
        },
        {
          "output_type": "display_data",
          "data": {
            "application/javascript": [
              "\n",
              "    async function download(id, filename, size) {\n",
              "      if (!google.colab.kernel.accessAllowed) {\n",
              "        return;\n",
              "      }\n",
              "      const div = document.createElement('div');\n",
              "      const label = document.createElement('label');\n",
              "      label.textContent = `Downloading \"${filename}\": `;\n",
              "      div.appendChild(label);\n",
              "      const progress = document.createElement('progress');\n",
              "      progress.max = size;\n",
              "      div.appendChild(progress);\n",
              "      document.body.appendChild(div);\n",
              "\n",
              "      const buffers = [];\n",
              "      let downloaded = 0;\n",
              "\n",
              "      const channel = await google.colab.kernel.comms.open(id);\n",
              "      // Send a message to notify the kernel that we're ready.\n",
              "      channel.send({})\n",
              "\n",
              "      for await (const message of channel.messages) {\n",
              "        // Send a message to notify the kernel that we're ready.\n",
              "        channel.send({})\n",
              "        if (message.buffers) {\n",
              "          for (const buffer of message.buffers) {\n",
              "            buffers.push(buffer);\n",
              "            downloaded += buffer.byteLength;\n",
              "            progress.value = downloaded;\n",
              "          }\n",
              "        }\n",
              "      }\n",
              "      const blob = new Blob(buffers, {type: 'application/binary'});\n",
              "      const a = document.createElement('a');\n",
              "      a.href = window.URL.createObjectURL(blob);\n",
              "      a.download = filename;\n",
              "      div.appendChild(a);\n",
              "      a.click();\n",
              "      div.remove();\n",
              "    }\n",
              "  "
            ],
            "text/plain": [
              "<IPython.core.display.Javascript object>"
            ]
          },
          "metadata": {
            "tags": []
          }
        },
        {
          "output_type": "display_data",
          "data": {
            "application/javascript": [
              "download(\"download_b4aafbaa-35aa-4f96-82b6-eacbf3951f27\", \"ECON 46 - Final Project - Nikesh Mishra.pdf\", 37040)"
            ],
            "text/plain": [
              "<IPython.core.display.Javascript object>"
            ]
          },
          "metadata": {
            "tags": []
          }
        },
        {
          "output_type": "execute_result",
          "data": {
            "application/vnd.google.colaboratory.intrinsic+json": {
              "type": "string"
            },
            "text/plain": [
              "'File ready to be Downloaded and Saved to Drive'"
            ]
          },
          "metadata": {
            "tags": []
          },
          "execution_count": 16
        }
      ]
    },
    {
      "cell_type": "code",
      "metadata": {
        "id": "t2Q0UStxvfYc"
      },
      "source": [
        ""
      ],
      "execution_count": null,
      "outputs": []
    }
  ]
}